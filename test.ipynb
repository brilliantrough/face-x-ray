{
 "cells": [
  {
   "cell_type": "code",
   "execution_count": 1,
   "metadata": {},
   "outputs": [
    {
     "name": "stdout",
     "output_type": "stream",
     "text": [
      "100%|██████████████████████████████████████| 2995/2995 [00:12<00:00, 240.49it/s]\n"
     ]
    }
   ],
   "source": [
    "!python landmark_generation.py"
   ]
  },
  {
   "cell_type": "code",
   "execution_count": 1,
   "metadata": {},
   "outputs": [],
   "source": [
    "import landmark_generation"
   ]
  },
  {
   "cell_type": "code",
   "execution_count": 2,
   "metadata": {},
   "outputs": [
    {
     "name": "stdout",
     "output_type": "stream",
     "text": [
      "<frozen importlib._bootstrap>:228: RuntimeWarning: scipy._lib.messagestream.MessageStream size changed, may indicate binary incompatibility. Expected 56 from C header, got 64 from PyObject\n",
      "2698\n",
      "  8%|███▏                                      | 15/200 [00:06<01:16,  2.43it/s]\n",
      "Traceback (most recent call last):\n",
      "  File \"/home/pzy000/Linewrite/Python/Project/xray/face-x-ray/bi_online_generation.py\", line 332, in <module>\n",
      "    generate_blends(ds, path_suffix=args.path[-6])\n",
      "  File \"/home/pzy000/Linewrite/Python/Project/xray/face-x-ray/bi_online_generation.py\", line 290, in generate_blends\n",
      "    img, mask, label = obj.gen_one_datapoint()\n",
      "  File \"/home/pzy000/Linewrite/Python/Project/xray/face-x-ray/bi_online_generation.py\", line 171, in gen_one_datapoint\n",
      "    face_img, mask = self.get_blended_face(background_face_path)\n",
      "  File \"/home/pzy000/Linewrite/Python/Project/xray/face-x-ray/bi_online_generation.py\", line 240, in get_blended_face\n",
      "    blended_face, mask = blendImages(\n",
      "  File \"/home/pzy000/Linewrite/Python/Project/xray/face-x-ray/bi_online_generation.py\", line 112, in blendImages\n",
      "    composedImg[maskIndices[0], maskIndices[1]] = weights[:, np.newaxis] * src[maskIndices[0],\n",
      "ValueError: operands could not be broadcast together with shapes (27363,3) (27363,27363) \n"
     ]
    }
   ],
   "source": [
    "!python bi_online_generation.py --path landmarks.json"
   ]
  },
  {
   "cell_type": "code",
   "execution_count": 3,
   "metadata": {},
   "outputs": [],
   "source": [
    "!mkdir -p blend_dataset/real_masks"
   ]
  },
  {
   "cell_type": "code",
   "execution_count": 3,
   "metadata": {},
   "outputs": [
    {
     "data": {
      "text/plain": [
       "3"
      ]
     },
     "execution_count": 3,
     "metadata": {},
     "output_type": "execute_result"
    }
   ],
   "source": [
    "from skimage import io\n",
    "import numpy as np\n",
    "import matplotlib.pyplot as plt\n",
    "x = io.imread('blend_dataset/real_imgs/2022-12-29 17:50:16.431599.jpg')\n",
    "x.shape[-1]\n"
   ]
  },
  {
   "cell_type": "code",
   "execution_count": null,
   "metadata": {},
   "outputs": [],
   "source": []
  }
 ],
 "metadata": {
  "kernelspec": {
   "display_name": "facexray",
   "language": "python",
   "name": "python3"
  },
  "language_info": {
   "codemirror_mode": {
    "name": "ipython",
    "version": 3
   },
   "file_extension": ".py",
   "mimetype": "text/x-python",
   "name": "python",
   "nbconvert_exporter": "python",
   "pygments_lexer": "ipython3",
   "version": "3.9.15"
  },
  "orig_nbformat": 4,
  "vscode": {
   "interpreter": {
    "hash": "2ce82d116f0c383615dd49f5c19404daa21b035c2d503636ed36f8573340ede5"
   }
  }
 },
 "nbformat": 4,
 "nbformat_minor": 2
}
